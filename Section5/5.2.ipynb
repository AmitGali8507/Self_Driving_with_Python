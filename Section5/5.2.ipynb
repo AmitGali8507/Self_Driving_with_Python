{
 "cells": [
  {
   "cell_type": "markdown",
   "id": "e0c33ebc",
   "metadata": {},
   "source": [
    "# CODE TO PERFORM ROTATION; TRANSLATION AND RESIZING"
   ]
  },
  {
   "cell_type": "code",
   "execution_count": 1,
   "id": "c0000d9f",
   "metadata": {},
   "outputs": [],
   "source": [
    "import cv2\n",
    "import numpy as np\n",
    "import matplotlib.image as mpimg\n",
    "from matplotlib import pyplot as plt\n",
    "%matplotlib inline"
   ]
  },
  {
   "cell_type": "code",
   "execution_count": 2,
   "id": "53a883c4",
   "metadata": {},
   "outputs": [],
   "source": [
    "image = cv2.imread(\"Self_Driving_Car.jpg\")"
   ]
  },
  {
   "cell_type": "code",
   "execution_count": 3,
   "id": "ca6a3994",
   "metadata": {},
   "outputs": [],
   "source": [
    "cv2.imshow(\"Original Image\", image)\n",
    "cv2.waitKey()\n",
    "cv2.destroyAllWindows()"
   ]
  },
  {
   "cell_type": "code",
   "execution_count": 4,
   "id": "e6da0e9e",
   "metadata": {},
   "outputs": [],
   "source": [
    "height, width = image.shape[:2]"
   ]
  },
  {
   "cell_type": "code",
   "execution_count": 5,
   "id": "df2e4b54",
   "metadata": {},
   "outputs": [
    {
     "data": {
      "text/plain": [
       "661"
      ]
     },
     "execution_count": 5,
     "metadata": {},
     "output_type": "execute_result"
    }
   ],
   "source": [
    "height"
   ]
  },
  {
   "cell_type": "code",
   "execution_count": 6,
   "id": "24d5ac79",
   "metadata": {},
   "outputs": [
    {
     "data": {
      "text/plain": [
       "1024"
      ]
     },
     "execution_count": 6,
     "metadata": {},
     "output_type": "execute_result"
    }
   ],
   "source": [
    "width"
   ]
  },
  {
   "cell_type": "markdown",
   "id": "47f7b196",
   "metadata": {},
   "source": [
    "## perform rotations"
   ]
  },
  {
   "cell_type": "code",
   "execution_count": 7,
   "id": "e21c889a",
   "metadata": {},
   "outputs": [],
   "source": [
    "M_rotation = cv2.getRotationMatrix2D((width/2, height/2), 45, 0.4)\n",
    "rotated_image = cv2.warpAffine(image, M_rotation, (width, height))"
   ]
  },
  {
   "cell_type": "code",
   "execution_count": 8,
   "id": "9fdb0984",
   "metadata": {},
   "outputs": [],
   "source": [
    "cv2.imshow(\"Rotated Image\", rotated_image)\n",
    "cv2.waitKey()\n",
    "cv2.destroyAllWindows()"
   ]
  },
  {
   "cell_type": "markdown",
   "id": "a24435ea",
   "metadata": {},
   "source": [
    "## perform translations"
   ]
  },
  {
   "cell_type": "code",
   "execution_count": 9,
   "id": "80fe21e7",
   "metadata": {},
   "outputs": [],
   "source": [
    "Translation_matrix = np.float32([[1,0,200],\n",
    "                                [0,1,100]])"
   ]
  },
  {
   "cell_type": "code",
   "execution_count": 11,
   "id": "3d19a8f6",
   "metadata": {},
   "outputs": [],
   "source": [
    "translated_image = cv2.warpAffine(image, Translation_matrix, (width, height))"
   ]
  },
  {
   "cell_type": "code",
   "execution_count": 13,
   "id": "2a3004d9",
   "metadata": {},
   "outputs": [],
   "source": [
    "cv2.imshow(\"Translated Image\", translated_image)\n",
    "cv2.waitKey()\n",
    "cv2.destroyAllWindows()"
   ]
  },
  {
   "cell_type": "code",
   "execution_count": 14,
   "id": "a686ab72",
   "metadata": {},
   "outputs": [],
   "source": [
    "resited_image = cv2.resize(image, None, fx=0.75, fy=0.50, interpolation = cv2.INTER_CUBIC)\n",
    "cv2.imshow(\"Resized Image\", resited_image)\n",
    "cv2.waitKey()\n",
    "cv2.destroyAllWindows()"
   ]
  },
  {
   "cell_type": "code",
   "execution_count": null,
   "id": "6bd33bdb",
   "metadata": {},
   "outputs": [],
   "source": []
  }
 ],
 "metadata": {
  "kernelspec": {
   "display_name": "Python 3 (ipykernel)",
   "language": "python",
   "name": "python3"
  },
  "language_info": {
   "codemirror_mode": {
    "name": "ipython",
    "version": 3
   },
   "file_extension": ".py",
   "mimetype": "text/x-python",
   "name": "python",
   "nbconvert_exporter": "python",
   "pygments_lexer": "ipython3",
   "version": "3.11.5"
  }
 },
 "nbformat": 4,
 "nbformat_minor": 5
}

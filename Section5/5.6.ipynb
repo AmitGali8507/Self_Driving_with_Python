{
 "cells": [
  {
   "cell_type": "markdown",
   "id": "4c2efc81",
   "metadata": {},
   "source": [
    "# CODE TO PERFORM CROPPING, DILATION AND EROSION"
   ]
  },
  {
   "cell_type": "code",
   "execution_count": 1,
   "id": "8db0f0e7",
   "metadata": {},
   "outputs": [],
   "source": [
    "import cv2\n",
    "import numpy as np\n",
    "import matplotlib.image as mpimg\n",
    "from matplotlib import pyplot as plt\n",
    "%matplotlib inline"
   ]
  },
  {
   "cell_type": "code",
   "execution_count": 3,
   "id": "1ed4b1b2",
   "metadata": {},
   "outputs": [],
   "source": [
    "image = cv2.imread(\"Self_Driving_Car.jpg\")"
   ]
  },
  {
   "cell_type": "code",
   "execution_count": 4,
   "id": "0b0c9578",
   "metadata": {},
   "outputs": [],
   "source": [
    "cv2.imshow('Original Image', image)\n",
    "cv2.waitKey()\n",
    "cv2.destroyAllWindows()"
   ]
  },
  {
   "cell_type": "code",
   "execution_count": 5,
   "id": "6725300b",
   "metadata": {},
   "outputs": [],
   "source": [
    "height, width = image.shape[:2]"
   ]
  },
  {
   "cell_type": "code",
   "execution_count": 6,
   "id": "cfca11b0",
   "metadata": {},
   "outputs": [
    {
     "data": {
      "text/plain": [
       "661"
      ]
     },
     "execution_count": 6,
     "metadata": {},
     "output_type": "execute_result"
    }
   ],
   "source": [
    "height"
   ]
  },
  {
   "cell_type": "code",
   "execution_count": 7,
   "id": "a8fab92e",
   "metadata": {},
   "outputs": [
    {
     "data": {
      "text/plain": [
       "1024"
      ]
     },
     "execution_count": 7,
     "metadata": {},
     "output_type": "execute_result"
    }
   ],
   "source": [
    "width"
   ]
  },
  {
   "cell_type": "markdown",
   "id": "9b234eef",
   "metadata": {},
   "source": [
    "## perform cropping"
   ]
  },
  {
   "cell_type": "code",
   "execution_count": 8,
   "id": "b06f9c3c",
   "metadata": {},
   "outputs": [],
   "source": [
    "# Top left coordinates of the desired cropped area (w0, h0)\n",
    "w0 = int(width*0.5)\n",
    "h0 = int(height*0.5)"
   ]
  },
  {
   "cell_type": "code",
   "execution_count": 9,
   "id": "27dedd85",
   "metadata": {},
   "outputs": [],
   "source": [
    "# Bottom right coordinates of the desired cropped area (w1, h1)\n",
    "w1 = int(width*1)\n",
    "h1 = int(height*1)"
   ]
  },
  {
   "cell_type": "code",
   "execution_count": 12,
   "id": "39a148c1",
   "metadata": {},
   "outputs": [],
   "source": [
    "cropped_image = image[h0:h1, w0:w1]\n",
    "cv2.imshow('Cropped Image', cropped_image)\n",
    "cv2.waitKey()\n",
    "cv2.destroyAllWindows()\n",
    "# image will be cropped, use plt option to also visualize but BGR will be RGB"
   ]
  },
  {
   "cell_type": "markdown",
   "id": "7c452eae",
   "metadata": {},
   "source": [
    "## perform dilation and erosion"
   ]
  },
  {
   "cell_type": "code",
   "execution_count": 13,
   "id": "9dd71f20",
   "metadata": {},
   "outputs": [],
   "source": [
    "image = cv2.imread(\"Speed_Sign_View_2.jpg\")"
   ]
  },
  {
   "cell_type": "code",
   "execution_count": 14,
   "id": "76cf8151",
   "metadata": {},
   "outputs": [],
   "source": [
    "kernel = np.ones((3,3), np.uint8)"
   ]
  },
  {
   "cell_type": "code",
   "execution_count": 19,
   "id": "1fad9fbe",
   "metadata": {},
   "outputs": [],
   "source": [
    "image_erosion = cv2.erode(image, kernel, iterations=5)\n",
    "image_dilation = cv2.dilate(image, kernel, iterations=5)\n",
    "\n",
    "cv2.imshow(\"Original Image\",image)\n",
    "cv2.imshow(\"Eroded Image\", image_erosion)\n",
    "cv2.imshow(\"Dilated Image\", image_dilation)\n",
    "\n",
    "cv2.waitKey()\n",
    "cv2.destroyAllWindows()"
   ]
  },
  {
   "cell_type": "code",
   "execution_count": null,
   "id": "81ffe489",
   "metadata": {},
   "outputs": [],
   "source": []
  }
 ],
 "metadata": {
  "kernelspec": {
   "display_name": "Python 3 (ipykernel)",
   "language": "python",
   "name": "python3"
  },
  "language_info": {
   "codemirror_mode": {
    "name": "ipython",
    "version": 3
   },
   "file_extension": ".py",
   "mimetype": "text/x-python",
   "name": "python",
   "nbconvert_exporter": "python",
   "pygments_lexer": "ipython3",
   "version": "3.11.5"
  }
 },
 "nbformat": 4,
 "nbformat_minor": 5
}

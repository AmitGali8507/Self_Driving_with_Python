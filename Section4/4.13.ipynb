{
 "cells": [
  {
   "cell_type": "markdown",
   "id": "f46bac34",
   "metadata": {},
   "source": [
    "#  CODE FOR IMAGE MANIPULATIONS (Edge Detection using Sobel/Laplacian and Canny) "
   ]
  },
  {
   "cell_type": "code",
   "execution_count": 1,
   "id": "8bc8f529",
   "metadata": {},
   "outputs": [],
   "source": [
    "import matplotlib.image as mpimg\n",
    "import matplotlib.pyplot as plt\n",
    "import numpy as np\n",
    "\n",
    "import cv2"
   ]
  },
  {
   "cell_type": "code",
   "execution_count": 2,
   "id": "91e84ac4",
   "metadata": {},
   "outputs": [],
   "source": [
    "image = cv2.imread('Self_Driving_Car.jpg')\n",
    "\n",
    "cv2.imshow('Self Driving Car!', image)\n",
    "\n",
    "# 'waitKey' allows us to input information when a image window is open\n",
    "# By leaving it blank it just waits for anykey to be pressed before continuing. \n",
    "cv2.waitKey()\n",
    "cv2.destroyAllWindows()"
   ]
  },
  {
   "cell_type": "markdown",
   "id": "320bd3e2",
   "metadata": {},
   "source": [
    "## convert to gray scale\n"
   ]
  },
  {
   "cell_type": "code",
   "execution_count": 3,
   "id": "1cbacb09",
   "metadata": {},
   "outputs": [],
   "source": [
    "gray_img = cv2.cvtColor(image, cv2.COLOR_BGR2GRAY)\n",
    "cv2.imshow('Self Driving Car in gray', gray_img)\n",
    "cv2.waitKey()\n",
    "cv2.destroyAllWindows()"
   ]
  },
  {
   "cell_type": "markdown",
   "id": "fe478143",
   "metadata": {},
   "source": [
    "# sobel"
   ]
  },
  {
   "cell_type": "code",
   "execution_count": 4,
   "id": "e54a7896",
   "metadata": {},
   "outputs": [],
   "source": [
    "x_sobel = cv2.Sobel(gray_img, cv2.CV_64F, 0, 1, ksize = 7) # ksize is kernel size\n",
    "cv2.imshow('Sobel - X direction', x_sobel)\n",
    "cv2.waitKey()\n",
    "cv2.destroyAllWindows()"
   ]
  },
  {
   "cell_type": "code",
   "execution_count": 5,
   "id": "836c4078",
   "metadata": {},
   "outputs": [],
   "source": [
    "y_sobel = cv2.Sobel(gray_img, cv2.CV_64F, 1, 0, ksize = 7)\n",
    "cv2.imshow('Sobel - Y direction', y_sobel)\n",
    "cv2.waitKey()\n",
    "cv2.destroyAllWindows()"
   ]
  },
  {
   "cell_type": "markdown",
   "id": "60a7f6a9",
   "metadata": {},
   "source": [
    "# laplacian"
   ]
  },
  {
   "cell_type": "code",
   "execution_count": 6,
   "id": "517ef056",
   "metadata": {},
   "outputs": [],
   "source": [
    "laplacian = cv2.Laplacian(gray_img, cv2.CV_64F)\n",
    "cv2.imshow('Laplacian image', laplacian)\n",
    "cv2.waitKey()\n",
    "cv2.destroyAllWindows()"
   ]
  },
  {
   "cell_type": "markdown",
   "id": "fa013ce0",
   "metadata": {},
   "source": [
    "# canny"
   ]
  },
  {
   "cell_type": "code",
   "execution_count": 10,
   "id": "4f5c5c0b",
   "metadata": {},
   "outputs": [],
   "source": [
    "# threshold1 – first threshold for the hysteresis procedure.\n",
    "# threshold2 – second threshold for the hysteresis procedure.\n",
    "\n",
    "\n",
    "threshold1 = 100\n",
    "threshold2 = 100\n",
    "\n",
    "canny = cv2.Canny(gray_img, threshold1,threshold2)\n",
    "cv2.imshow('Canny image', canny)\n",
    "cv2.waitKey()\n",
    "cv2.destroyAllWindows()"
   ]
  },
  {
   "cell_type": "code",
   "execution_count": null,
   "id": "af32926d",
   "metadata": {},
   "outputs": [],
   "source": []
  }
 ],
 "metadata": {
  "kernelspec": {
   "display_name": "Python 3 (ipykernel)",
   "language": "python",
   "name": "python3"
  },
  "language_info": {
   "codemirror_mode": {
    "name": "ipython",
    "version": 3
   },
   "file_extension": ".py",
   "mimetype": "text/x-python",
   "name": "python",
   "nbconvert_exporter": "python",
   "pygments_lexer": "ipython3",
   "version": "3.11.5"
  }
 },
 "nbformat": 4,
 "nbformat_minor": 5
}

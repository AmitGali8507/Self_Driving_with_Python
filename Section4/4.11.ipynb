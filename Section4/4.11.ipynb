{
 "cells": [
  {
   "cell_type": "markdown",
   "id": "9088db6e",
   "metadata": {},
   "source": [
    "#  CODE FOR IMAGE MANIPULATIONS (Convolutions - Blurring and Sharpening) "
   ]
  },
  {
   "cell_type": "code",
   "execution_count": 1,
   "id": "303c310c",
   "metadata": {},
   "outputs": [],
   "source": [
    "import matplotlib.image as mpimg\n",
    "import matplotlib.pyplot as plt\n",
    "import numpy as np\n",
    "import cv2"
   ]
  },
  {
   "cell_type": "code",
   "execution_count": 2,
   "id": "b8d8558d",
   "metadata": {},
   "outputs": [],
   "source": [
    "image = cv2.imread(\"Self_Driving_Car.jpg\")\n",
    "cv2.imshow(\"Self Driving Car\", image)\n",
    "cv2.waitKey()\n",
    "cv2.destroyAllWindows()"
   ]
  },
  {
   "cell_type": "code",
   "execution_count": 3,
   "id": "8b02f484",
   "metadata": {},
   "outputs": [
    {
     "data": {
      "text/plain": [
       "(426, 640, 3)"
      ]
     },
     "execution_count": 3,
     "metadata": {},
     "output_type": "execute_result"
    }
   ],
   "source": [
    "image.shape\n"
   ]
  },
  {
   "cell_type": "markdown",
   "id": "38d30ce8",
   "metadata": {},
   "source": [
    "# gray"
   ]
  },
  {
   "cell_type": "code",
   "execution_count": 6,
   "id": "454d41a7",
   "metadata": {},
   "outputs": [],
   "source": [
    "gray_img = cv2.cvtColor(image, cv2.COLOR_BGR2GRAY)\n",
    "cv2.imshow(\"Self Driving Car in gray\", gray_img)\n",
    "cv2.waitKey()\n",
    "cv2.destroyAllWindows()"
   ]
  },
  {
   "cell_type": "markdown",
   "id": "f372964c",
   "metadata": {},
   "source": [
    "\n",
    "# apply sharpening kernel"
   ]
  },
  {
   "cell_type": "code",
   "execution_count": 13,
   "id": "d741d656",
   "metadata": {},
   "outputs": [],
   "source": [
    "#1\n",
    "#Sharp_Kernel = np.array([[0,-1,0],\n",
    "#                       [-1,5,-1],\n",
    "#                       [0,-1,0]])\n",
    "\n",
    "#2\n",
    "Sharp_Kernel = np.array([[-1,-1,-1],\n",
    "                       [-1,9,-1],\n",
    "                       [-1,-1,-1]])\n",
    "\n",
    "Sharpened_image = cv2.filter2D(gray_img, -1, Sharp_Kernel)"
   ]
  },
  {
   "cell_type": "code",
   "execution_count": 12,
   "id": "12905725",
   "metadata": {},
   "outputs": [],
   "source": [
    "cv2.imshow(\"Sharpened Image\", Sharpened_image)\n",
    "cv2.waitKey(0)\n",
    "cv2.destroyAllWindows()"
   ]
  },
  {
   "cell_type": "markdown",
   "id": "8bf016c6",
   "metadata": {},
   "source": [
    "# apply blurring kernel"
   ]
  },
  {
   "cell_type": "code",
   "execution_count": 14,
   "id": "01cb91eb",
   "metadata": {},
   "outputs": [
    {
     "data": {
      "text/plain": [
       "array([[1., 1., 1.],\n",
       "       [1., 1., 1.],\n",
       "       [1., 1., 1.]])"
      ]
     },
     "execution_count": 14,
     "metadata": {},
     "output_type": "execute_result"
    }
   ],
   "source": [
    "Blur_kernel = np.ones((3,3))\n",
    "Blur_kernel"
   ]
  },
  {
   "cell_type": "code",
   "execution_count": 15,
   "id": "736ed114",
   "metadata": {},
   "outputs": [],
   "source": [
    "Blurred_image = cv2.filter2D(gray_img, -1, Blur_kernel)"
   ]
  },
  {
   "cell_type": "code",
   "execution_count": 18,
   "id": "a52141eb",
   "metadata": {},
   "outputs": [],
   "source": [
    "cv2.imshow(\"Blurred Image\", Blurred_image)\n",
    "cv2.waitKey(0)\n",
    "cv2.destroyAllWindows()"
   ]
  },
  {
   "cell_type": "markdown",
   "id": "12fa2ab8",
   "metadata": {},
   "source": [
    "### blurring kernel normalized"
   ]
  },
  {
   "cell_type": "code",
   "execution_count": 19,
   "id": "a8f8776e",
   "metadata": {},
   "outputs": [
    {
     "data": {
      "text/plain": [
       "array([[0.11111111, 0.11111111, 0.11111111],\n",
       "       [0.11111111, 0.11111111, 0.11111111],\n",
       "       [0.11111111, 0.11111111, 0.11111111]])"
      ]
     },
     "execution_count": 19,
     "metadata": {},
     "output_type": "execute_result"
    }
   ],
   "source": [
    "Blur_kernel = np.ones((3,3))*(1/9)\n",
    "Blur_kernel"
   ]
  },
  {
   "cell_type": "code",
   "execution_count": 20,
   "id": "5c7f436c",
   "metadata": {},
   "outputs": [],
   "source": [
    "Blurred_image = cv2.filter2D(gray_img, -1, Blur_kernel)"
   ]
  },
  {
   "cell_type": "code",
   "execution_count": 21,
   "id": "89cbc3fd",
   "metadata": {},
   "outputs": [],
   "source": [
    "cv2.imshow(\"Blurred Image Normalized\", Blurred_image)\n",
    "cv2.waitKey(0)\n",
    "cv2.destroyAllWindows()"
   ]
  },
  {
   "cell_type": "markdown",
   "id": "b328ea58",
   "metadata": {},
   "source": [
    "### larger kernel matrix"
   ]
  },
  {
   "cell_type": "code",
   "execution_count": 22,
   "id": "087c63f7",
   "metadata": {},
   "outputs": [
    {
     "data": {
      "text/plain": [
       "array([[0.015625, 0.015625, 0.015625, 0.015625, 0.015625, 0.015625,\n",
       "        0.015625, 0.015625],\n",
       "       [0.015625, 0.015625, 0.015625, 0.015625, 0.015625, 0.015625,\n",
       "        0.015625, 0.015625],\n",
       "       [0.015625, 0.015625, 0.015625, 0.015625, 0.015625, 0.015625,\n",
       "        0.015625, 0.015625],\n",
       "       [0.015625, 0.015625, 0.015625, 0.015625, 0.015625, 0.015625,\n",
       "        0.015625, 0.015625],\n",
       "       [0.015625, 0.015625, 0.015625, 0.015625, 0.015625, 0.015625,\n",
       "        0.015625, 0.015625],\n",
       "       [0.015625, 0.015625, 0.015625, 0.015625, 0.015625, 0.015625,\n",
       "        0.015625, 0.015625],\n",
       "       [0.015625, 0.015625, 0.015625, 0.015625, 0.015625, 0.015625,\n",
       "        0.015625, 0.015625],\n",
       "       [0.015625, 0.015625, 0.015625, 0.015625, 0.015625, 0.015625,\n",
       "        0.015625, 0.015625]])"
      ]
     },
     "execution_count": 22,
     "metadata": {},
     "output_type": "execute_result"
    }
   ],
   "source": [
    "Blur_kernel = np.ones((8,8))*(1/64)\n",
    "Blur_kernel"
   ]
  },
  {
   "cell_type": "code",
   "execution_count": 35,
   "id": "4a6d990a",
   "metadata": {},
   "outputs": [],
   "source": [
    "Blurred_image = cv2.filter2D(gray_img, -1, Blur_kernel)"
   ]
  },
  {
   "cell_type": "code",
   "execution_count": 36,
   "id": "ada9554f",
   "metadata": {},
   "outputs": [],
   "source": [
    "cv2.imshow(\"Blurred Image Normalized\", Blurred_image)\n",
    "cv2.waitKey(0)\n",
    "cv2.destroyAllWindows()"
   ]
  },
  {
   "cell_type": "code",
   "execution_count": 37,
   "id": "40b0c534",
   "metadata": {},
   "outputs": [
    {
     "data": {
      "text/plain": [
       "True"
      ]
     },
     "execution_count": 37,
     "metadata": {},
     "output_type": "execute_result"
    }
   ],
   "source": [
    "cv2.imwrite(\"saving_blur_image.jpg\", Blurred_image)"
   ]
  },
  {
   "cell_type": "markdown",
   "id": "81e9f73a",
   "metadata": {},
   "source": [
    "## sharpen the blurred image"
   ]
  },
  {
   "cell_type": "code",
   "execution_count": 59,
   "id": "a70e778e",
   "metadata": {},
   "outputs": [],
   "source": [
    "blurimg = cv2.imread(\"saving_blur_image.jpg\")"
   ]
  },
  {
   "cell_type": "code",
   "execution_count": 69,
   "id": "15bf3436",
   "metadata": {},
   "outputs": [],
   "source": [
    "Sharp_Kernel = np.array([[-1,-1,-1],\n",
    "                       [-1,15,-1],\n",
    "                       [-1,-1,-1]])"
   ]
  },
  {
   "cell_type": "code",
   "execution_count": 70,
   "id": "402f7095",
   "metadata": {},
   "outputs": [],
   "source": [
    "Blur2Sharp = cv2.filter2D(blurimg, -1, Sharp_Kernel)"
   ]
  },
  {
   "cell_type": "code",
   "execution_count": 71,
   "id": "3ecf8e43",
   "metadata": {},
   "outputs": [],
   "source": [
    "cv2.imshow(\"Blurred Image Sharpened\", Blur2Sharp)\n",
    "cv2.waitKey(0)\n",
    "cv2.destroyAllWindows()"
   ]
  },
  {
   "cell_type": "code",
   "execution_count": 72,
   "id": "089d3ec6",
   "metadata": {},
   "outputs": [],
   "source": [
    "# not wokring as I thought :D :D :D"
   ]
  },
  {
   "cell_type": "code",
   "execution_count": null,
   "id": "dd3e67b4",
   "metadata": {},
   "outputs": [],
   "source": []
  }
 ],
 "metadata": {
  "kernelspec": {
   "display_name": "Python 3 (ipykernel)",
   "language": "python",
   "name": "python3"
  },
  "language_info": {
   "codemirror_mode": {
    "name": "ipython",
    "version": 3
   },
   "file_extension": ".py",
   "mimetype": "text/x-python",
   "name": "python",
   "nbconvert_exporter": "python",
   "pygments_lexer": "ipython3",
   "version": "3.11.5"
  }
 },
 "nbformat": 4,
 "nbformat_minor": 5
}
